{
 "cells": [
  {
   "cell_type": "markdown",
   "id": "88829ecb",
   "metadata": {},
   "source": [
    "## Load & Inspect the Data"
   ]
  },
  {
   "cell_type": "code",
   "execution_count": 1,
   "id": "272920c4",
   "metadata": {},
   "outputs": [],
   "source": [
    "import pandas as pd\n",
    "import numpy as np\n",
    "from sklearn.model_selection import train_test_split\n",
    "from sklearn.metrics import classification_report, accuracy_score\n",
    "from sklearn.utils.class_weight import compute_sample_weight\n",
    "from xgboost import XGBClassifier\n",
    "from sklearn.model_selection import ParameterSampler\n",
    "from tqdm.notebook import tqdm\n",
    "\n",
    "# Load dataset\n",
    "df = pd.read_csv(\"prosperLoanData.csv\")\n",
    "\n",
    "# Drop rows with no ProsperScore\n",
    "df = df.dropna(subset=[\"ProsperScore\"])\n",
    "df[\"ProsperScore\"] = df[\"ProsperScore\"].astype(int)\n"
   ]
  },
  {
   "cell_type": "markdown",
   "id": "8e400bbf",
   "metadata": {},
   "source": [
    "## Data Preprocessing"
   ]
  },
  {
   "cell_type": "code",
   "execution_count": 2,
   "id": "378c2a81",
   "metadata": {},
   "outputs": [],
   "source": [
    "drop_cols = [\n",
    "    \"ListingKey\", \"ListingNumber\", \"LoanKey\", \"LoanNumber\", \"MemberKey\", \"GroupKey\",\n",
    "    \"LoanOriginationDate\", \"ClosedDate\", \"ListingCreationDate\", \"DateCreditPulled\",\n",
    "    \"FirstRecordedCreditLine\"\n",
    "]\n",
    "df = df.drop(columns=drop_cols, errors=\"ignore\")\n",
    "\n",
    "cat_cols = [\"CreditGrade\", \"ProsperRating (Alpha)\", \"BorrowerState\", \"Occupation\", \"EmploymentStatus\", \"IncomeRange\"]\n",
    "num_cols = [\"StatedMonthlyIncome\", \"DebtToIncomeRatio\", \"DelinquenciesLast7Years\"]\n",
    "\n",
    "df = df[cat_cols + num_cols + [\"ProsperScore\"]]\n",
    "df = df.dropna(thresh=5)  # Keep rows with at least 5 non-null values\n",
    "df = df.dropna(subset=[\"ProsperScore\"])  # Ensure target is not null\n",
    "df = df.fillna(\"Unknown\")  # Fill remaining categorical NAs\n",
    "df = df[cat_cols + num_cols + [\"ProsperScore\"]]\n",
    "\n",
    "X = pd.get_dummies(df.drop(\"ProsperScore\", axis=1), drop_first=True)\n",
    "y = df[\"ProsperScore\"]\n",
    "\n",
    "X_train, X_test, y_train, y_test = train_test_split(\n",
    "    X, y, stratify=y, test_size=0.2, random_state=42\n",
    ")\n",
    "\n",
    "y_train0 = y_train - 1  # Shift labels to start from 0\n",
    "y_test0 = y_test - 1\n",
    "\n",
    "\n"
   ]
  },
  {
   "cell_type": "markdown",
   "id": "46925bf9",
   "metadata": {},
   "source": [
    "## Model Training"
   ]
  },
  {
   "cell_type": "code",
   "execution_count": 3,
   "id": "b3064dab",
   "metadata": {},
   "outputs": [
    {
     "data": {
      "application/vnd.jupyter.widget-view+json": {
       "model_id": "b5ac05debfec449180fd199f590802d7",
       "version_major": 2,
       "version_minor": 0
      },
      "text/plain": [
       "Hyperparam tuning:   0%|          | 0/10 [00:00<?, ?it/s]"
      ]
     },
     "metadata": {},
     "output_type": "display_data"
    }
   ],
   "source": [
    "sample_weights = compute_sample_weight(\"balanced\", y_train0)\n",
    "\n",
    "param_dist = {\n",
    "    \"n_estimators\": [100, 200],\n",
    "    \"max_depth\": [3, 5, 7],\n",
    "    \"learning_rate\": [0.01, 0.05, 0.1],\n",
    "    \"subsample\": [0.8, 1.0],\n",
    "    \"colsample_bytree\": [0.8, 1.0]\n",
    "}\n",
    "\n",
    "base_params = dict(\n",
    "    objective=\"multi:softprob\",\n",
    "    eval_metric=\"mlogloss\",\n",
    "    num_class=y.nunique(),\n",
    "    n_jobs=-1\n",
    ")\n",
    "\n",
    "best_score = -1\n",
    "best_params = None\n",
    "\n",
    "for trial in tqdm(list(ParameterSampler(param_dist, n_iter=10, random_state=42)), desc=\"Hyperparam tuning\"):\n",
    "    model = XGBClassifier(**{**base_params, **trial})\n",
    "    model.fit(X_train, y_train0, sample_weight=sample_weights, eval_set=[(X_test, y_test0)], verbose=False)\n",
    "    score = model.score(X_test, y_test0)\n",
    "    if score > best_score:\n",
    "        best_score = score\n",
    "        best_params = {**base_params, **trial}\n",
    "\n",
    "final_model = XGBClassifier(**best_params)\n",
    "final_model.fit(X_train, y_train0, sample_weight=sample_weights)\n",
    "y_pred_raw = final_model.predict(X_test)\n",
    "\n",
    "\n"
   ]
  },
  {
   "cell_type": "markdown",
   "id": "e0e51566",
   "metadata": {},
   "source": [
    "## Model Evaluation"
   ]
  },
  {
   "cell_type": "code",
   "execution_count": null,
   "id": "0d0a4b28",
   "metadata": {},
   "outputs": [
    {
     "name": "stdout",
     "output_type": "stream",
     "text": [
      "✅ Relaxed Accuracy (±2 allowed): 0.7585\n",
      "\n",
      "🧠 Standard Accuracy: 0.2814212480113134\n",
      "\n",
      "📝 Classification Report:\n",
      "              precision    recall  f1-score   support\n",
      "\n",
      "           0       0.11      0.54      0.18       198\n",
      "           1       0.27      0.43      0.33      1153\n",
      "           2       0.21      0.24      0.23      1528\n",
      "           3       0.31      0.27      0.29      2519\n",
      "           4       0.26      0.08      0.12      1963\n",
      "           5       0.30      0.12      0.18      2456\n",
      "           6       0.28      0.25      0.27      2120\n",
      "           7       0.34      0.36      0.35      2411\n",
      "           8       0.34      0.53      0.42      1382\n",
      "           9       0.49      0.41      0.45       950\n",
      "          10       0.11      0.43      0.18       291\n",
      "\n",
      "    accuracy                           0.28     16971\n",
      "   macro avg       0.27      0.33      0.27     16971\n",
      "weighted avg       0.30      0.28      0.27     16971\n",
      "\n"
     ]
    }
   ],
   "source": [
    "# Custom relaxed accuracy: allow ±2 off\n",
    "def relaxed_accuracy(y_true, y_pred, margin=2):\n",
    "    return np.mean(np.abs(y_true - y_pred) <= margin)\n",
    "\n",
    "relaxed_acc = relaxed_accuracy(y_test0, y_pred_raw)\n",
    "\n",
    "print(\"✅ Relaxed Accuracy (±2 allowed):\", round(relaxed_acc, 4))\n",
    "print(\"\\n🧠 Standard Accuracy:\", accuracy_score(y_test0, y_pred_raw))\n",
    "print(\"\\n📝 Classification Report:\")\n",
    "print(classification_report(y_test0, y_pred_raw))\n"
   ]
  },
  {
   "cell_type": "code",
   "execution_count": 5,
   "id": "acc298a2",
   "metadata": {},
   "outputs": [],
   "source": [
    "from xgboost import Booster\n",
    "import json\n",
    "\n",
    "# Save the XGBoost model using native method\n",
    "final_model.get_booster().save_model(\"risk_model.json\")\n",
    "\n",
    "# Save the feature column order as JSON\n",
    "with open(\"feature_columns.json\", \"w\") as f:\n",
    "    json.dump(X.columns.tolist(), f)\n"
   ]
  }
 ],
 "metadata": {
  "kernelspec": {
   "display_name": "Python 3",
   "language": "python",
   "name": "python3"
  },
  "language_info": {
   "codemirror_mode": {
    "name": "ipython",
    "version": 3
   },
   "file_extension": ".py",
   "mimetype": "text/x-python",
   "name": "python",
   "nbconvert_exporter": "python",
   "pygments_lexer": "ipython3",
   "version": "3.9.6"
  }
 },
 "nbformat": 4,
 "nbformat_minor": 5
}
